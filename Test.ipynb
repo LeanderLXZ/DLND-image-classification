{
 "cells": [
  {
   "cell_type": "code",
   "execution_count": 11,
   "metadata": {
    "collapsed": true
   },
   "outputs": [],
   "source": [
    "import numpy as np"
   ]
  },
  {
   "cell_type": "code",
   "execution_count": 12,
   "metadata": {
    "collapsed": true
   },
   "outputs": [],
   "source": [
    "from sklearn.preprocessing import LabelBinarizer\n",
    "def one_hot_encode(x):\n",
    "    encoder = LabelBinarizer()\n",
    "    encoder.fit(x)\n",
    "    output = encoder.transform(x)\n",
    "    return output"
   ]
  },
  {
   "cell_type": "code",
   "execution_count": 18,
   "metadata": {
    "collapsed": false
   },
   "outputs": [
    {
     "data": {
      "text/plain": [
       "288"
      ]
     },
     "execution_count": 18,
     "metadata": {},
     "output_type": "execute_result"
    }
   ],
   "source": [
    "test_shape = np.random.choice(range(1000))\n",
    "test_shape"
   ]
  },
  {
   "cell_type": "code",
   "execution_count": 19,
   "metadata": {
    "collapsed": false
   },
   "outputs": [
    {
     "data": {
      "text/plain": [
       "array([8, 1, 5, 6, 3, 7, 6, 3, 9, 8, 5, 6, 7, 0, 5, 2, 7, 8, 8, 1, 7, 2, 4,\n",
       "       8, 4, 7, 4, 5, 2, 3, 9, 7, 5, 8, 4, 7, 3, 1, 1, 8, 2, 0, 2, 6, 8, 7,\n",
       "       0, 0, 9, 7, 9, 5, 8, 1, 1, 4, 8, 7, 7, 8, 4, 7, 4, 7, 3, 4, 7, 9, 7,\n",
       "       0, 4, 3, 2, 9, 6, 2, 5, 4, 8, 4, 2, 4, 6, 7, 4, 7, 5, 6, 8, 5, 5, 6,\n",
       "       1, 8, 0, 6, 7, 7, 1, 6, 8, 5, 5, 0, 6, 8, 6, 6, 4, 4, 6, 4, 2, 6, 2,\n",
       "       0, 5, 2, 6, 9, 1, 9, 3, 0, 3, 7, 5, 9, 4, 6, 4, 0, 5, 6, 1, 3, 8, 1,\n",
       "       9, 4, 7, 4, 7, 3, 6, 7, 0, 8, 1, 2, 2, 8, 8, 2, 3, 8, 0, 5, 4, 4, 1,\n",
       "       4, 5, 0, 1, 7, 3, 1, 7, 4, 2, 5, 3, 3, 7, 5, 5, 1, 9, 3, 5, 9, 6, 1,\n",
       "       3, 8, 1, 4, 5, 3, 2, 0, 6, 8, 3, 4, 9, 9, 2, 3, 8, 0, 9, 4, 3, 7, 7,\n",
       "       2, 4, 3, 6, 2, 2, 0, 6, 0, 4, 8, 7, 7, 5, 3, 5, 2, 3, 2, 4, 5, 9, 8,\n",
       "       2, 7, 6, 6, 1, 7, 6, 8, 3, 5, 0, 2, 6, 6, 2, 5, 9, 0, 1, 4, 1, 5, 9,\n",
       "       7, 3, 8, 0, 4, 2, 4, 7, 3, 9, 8, 4, 5, 8, 1, 7, 8, 7, 3, 3, 2, 2, 0,\n",
       "       1, 7, 5, 3, 2, 1, 1, 9, 1, 8, 4, 5])"
      ]
     },
     "execution_count": 19,
     "metadata": {},
     "output_type": "execute_result"
    }
   ],
   "source": [
    "test_numbers = np.random.choice(range(10), test_shape)\n",
    "test_numbers"
   ]
  },
  {
   "cell_type": "code",
   "execution_count": 21,
   "metadata": {
    "collapsed": false
   },
   "outputs": [
    {
     "data": {
      "text/plain": [
       "array([[0, 0, 0, ..., 0, 1, 0],\n",
       "       [0, 1, 0, ..., 0, 0, 0],\n",
       "       [0, 0, 0, ..., 0, 0, 0],\n",
       "       ..., \n",
       "       [0, 0, 0, ..., 0, 1, 0],\n",
       "       [0, 0, 0, ..., 0, 0, 0],\n",
       "       [0, 0, 0, ..., 0, 0, 0]])"
      ]
     },
     "execution_count": 21,
     "metadata": {},
     "output_type": "execute_result"
    }
   ],
   "source": [
    "one_hot_out = one_hot_encode(test_numbers)\n",
    "one_hot_out"
   ]
  },
  {
   "cell_type": "code",
   "execution_count": 23,
   "metadata": {
    "collapsed": false
   },
   "outputs": [
    {
     "data": {
      "text/plain": [
       "[(8, array([0, 0, 0, 0, 0, 0, 0, 0, 1, 0])),\n",
       " (1, array([0, 1, 0, 0, 0, 0, 0, 0, 0, 0])),\n",
       " (5, array([0, 0, 0, 0, 0, 1, 0, 0, 0, 0])),\n",
       " (6, array([0, 0, 0, 0, 0, 0, 1, 0, 0, 0])),\n",
       " (3, array([0, 0, 0, 1, 0, 0, 0, 0, 0, 0])),\n",
       " (7, array([0, 0, 0, 0, 0, 0, 0, 1, 0, 0])),\n",
       " (6, array([0, 0, 0, 0, 0, 0, 1, 0, 0, 0])),\n",
       " (3, array([0, 0, 0, 1, 0, 0, 0, 0, 0, 0])),\n",
       " (9, array([0, 0, 0, 0, 0, 0, 0, 0, 0, 1])),\n",
       " (8, array([0, 0, 0, 0, 0, 0, 0, 0, 1, 0])),\n",
       " (5, array([0, 0, 0, 0, 0, 1, 0, 0, 0, 0])),\n",
       " (6, array([0, 0, 0, 0, 0, 0, 1, 0, 0, 0])),\n",
       " (7, array([0, 0, 0, 0, 0, 0, 0, 1, 0, 0])),\n",
       " (0, array([1, 0, 0, 0, 0, 0, 0, 0, 0, 0])),\n",
       " (5, array([0, 0, 0, 0, 0, 1, 0, 0, 0, 0])),\n",
       " (2, array([0, 0, 1, 0, 0, 0, 0, 0, 0, 0])),\n",
       " (7, array([0, 0, 0, 0, 0, 0, 0, 1, 0, 0])),\n",
       " (8, array([0, 0, 0, 0, 0, 0, 0, 0, 1, 0])),\n",
       " (8, array([0, 0, 0, 0, 0, 0, 0, 0, 1, 0])),\n",
       " (1, array([0, 1, 0, 0, 0, 0, 0, 0, 0, 0])),\n",
       " (7, array([0, 0, 0, 0, 0, 0, 0, 1, 0, 0])),\n",
       " (2, array([0, 0, 1, 0, 0, 0, 0, 0, 0, 0])),\n",
       " (4, array([0, 0, 0, 0, 1, 0, 0, 0, 0, 0])),\n",
       " (8, array([0, 0, 0, 0, 0, 0, 0, 0, 1, 0])),\n",
       " (4, array([0, 0, 0, 0, 1, 0, 0, 0, 0, 0])),\n",
       " (7, array([0, 0, 0, 0, 0, 0, 0, 1, 0, 0])),\n",
       " (4, array([0, 0, 0, 0, 1, 0, 0, 0, 0, 0])),\n",
       " (5, array([0, 0, 0, 0, 0, 1, 0, 0, 0, 0])),\n",
       " (2, array([0, 0, 1, 0, 0, 0, 0, 0, 0, 0])),\n",
       " (3, array([0, 0, 0, 1, 0, 0, 0, 0, 0, 0])),\n",
       " (9, array([0, 0, 0, 0, 0, 0, 0, 0, 0, 1])),\n",
       " (7, array([0, 0, 0, 0, 0, 0, 0, 1, 0, 0])),\n",
       " (5, array([0, 0, 0, 0, 0, 1, 0, 0, 0, 0])),\n",
       " (8, array([0, 0, 0, 0, 0, 0, 0, 0, 1, 0])),\n",
       " (4, array([0, 0, 0, 0, 1, 0, 0, 0, 0, 0])),\n",
       " (7, array([0, 0, 0, 0, 0, 0, 0, 1, 0, 0])),\n",
       " (3, array([0, 0, 0, 1, 0, 0, 0, 0, 0, 0])),\n",
       " (1, array([0, 1, 0, 0, 0, 0, 0, 0, 0, 0])),\n",
       " (1, array([0, 1, 0, 0, 0, 0, 0, 0, 0, 0])),\n",
       " (8, array([0, 0, 0, 0, 0, 0, 0, 0, 1, 0])),\n",
       " (2, array([0, 0, 1, 0, 0, 0, 0, 0, 0, 0])),\n",
       " (0, array([1, 0, 0, 0, 0, 0, 0, 0, 0, 0])),\n",
       " (2, array([0, 0, 1, 0, 0, 0, 0, 0, 0, 0])),\n",
       " (6, array([0, 0, 0, 0, 0, 0, 1, 0, 0, 0])),\n",
       " (8, array([0, 0, 0, 0, 0, 0, 0, 0, 1, 0])),\n",
       " (7, array([0, 0, 0, 0, 0, 0, 0, 1, 0, 0])),\n",
       " (0, array([1, 0, 0, 0, 0, 0, 0, 0, 0, 0])),\n",
       " (0, array([1, 0, 0, 0, 0, 0, 0, 0, 0, 0])),\n",
       " (9, array([0, 0, 0, 0, 0, 0, 0, 0, 0, 1])),\n",
       " (7, array([0, 0, 0, 0, 0, 0, 0, 1, 0, 0])),\n",
       " (9, array([0, 0, 0, 0, 0, 0, 0, 0, 0, 1])),\n",
       " (5, array([0, 0, 0, 0, 0, 1, 0, 0, 0, 0])),\n",
       " (8, array([0, 0, 0, 0, 0, 0, 0, 0, 1, 0])),\n",
       " (1, array([0, 1, 0, 0, 0, 0, 0, 0, 0, 0])),\n",
       " (1, array([0, 1, 0, 0, 0, 0, 0, 0, 0, 0])),\n",
       " (4, array([0, 0, 0, 0, 1, 0, 0, 0, 0, 0])),\n",
       " (8, array([0, 0, 0, 0, 0, 0, 0, 0, 1, 0])),\n",
       " (7, array([0, 0, 0, 0, 0, 0, 0, 1, 0, 0])),\n",
       " (7, array([0, 0, 0, 0, 0, 0, 0, 1, 0, 0])),\n",
       " (8, array([0, 0, 0, 0, 0, 0, 0, 0, 1, 0])),\n",
       " (4, array([0, 0, 0, 0, 1, 0, 0, 0, 0, 0])),\n",
       " (7, array([0, 0, 0, 0, 0, 0, 0, 1, 0, 0])),\n",
       " (4, array([0, 0, 0, 0, 1, 0, 0, 0, 0, 0])),\n",
       " (7, array([0, 0, 0, 0, 0, 0, 0, 1, 0, 0])),\n",
       " (3, array([0, 0, 0, 1, 0, 0, 0, 0, 0, 0])),\n",
       " (4, array([0, 0, 0, 0, 1, 0, 0, 0, 0, 0])),\n",
       " (7, array([0, 0, 0, 0, 0, 0, 0, 1, 0, 0])),\n",
       " (9, array([0, 0, 0, 0, 0, 0, 0, 0, 0, 1])),\n",
       " (7, array([0, 0, 0, 0, 0, 0, 0, 1, 0, 0])),\n",
       " (0, array([1, 0, 0, 0, 0, 0, 0, 0, 0, 0])),\n",
       " (4, array([0, 0, 0, 0, 1, 0, 0, 0, 0, 0])),\n",
       " (3, array([0, 0, 0, 1, 0, 0, 0, 0, 0, 0])),\n",
       " (2, array([0, 0, 1, 0, 0, 0, 0, 0, 0, 0])),\n",
       " (9, array([0, 0, 0, 0, 0, 0, 0, 0, 0, 1])),\n",
       " (6, array([0, 0, 0, 0, 0, 0, 1, 0, 0, 0])),\n",
       " (2, array([0, 0, 1, 0, 0, 0, 0, 0, 0, 0])),\n",
       " (5, array([0, 0, 0, 0, 0, 1, 0, 0, 0, 0])),\n",
       " (4, array([0, 0, 0, 0, 1, 0, 0, 0, 0, 0])),\n",
       " (8, array([0, 0, 0, 0, 0, 0, 0, 0, 1, 0])),\n",
       " (4, array([0, 0, 0, 0, 1, 0, 0, 0, 0, 0])),\n",
       " (2, array([0, 0, 1, 0, 0, 0, 0, 0, 0, 0])),\n",
       " (4, array([0, 0, 0, 0, 1, 0, 0, 0, 0, 0])),\n",
       " (6, array([0, 0, 0, 0, 0, 0, 1, 0, 0, 0])),\n",
       " (7, array([0, 0, 0, 0, 0, 0, 0, 1, 0, 0])),\n",
       " (4, array([0, 0, 0, 0, 1, 0, 0, 0, 0, 0])),\n",
       " (7, array([0, 0, 0, 0, 0, 0, 0, 1, 0, 0])),\n",
       " (5, array([0, 0, 0, 0, 0, 1, 0, 0, 0, 0])),\n",
       " (6, array([0, 0, 0, 0, 0, 0, 1, 0, 0, 0])),\n",
       " (8, array([0, 0, 0, 0, 0, 0, 0, 0, 1, 0])),\n",
       " (5, array([0, 0, 0, 0, 0, 1, 0, 0, 0, 0])),\n",
       " (5, array([0, 0, 0, 0, 0, 1, 0, 0, 0, 0])),\n",
       " (6, array([0, 0, 0, 0, 0, 0, 1, 0, 0, 0])),\n",
       " (1, array([0, 1, 0, 0, 0, 0, 0, 0, 0, 0])),\n",
       " (8, array([0, 0, 0, 0, 0, 0, 0, 0, 1, 0])),\n",
       " (0, array([1, 0, 0, 0, 0, 0, 0, 0, 0, 0])),\n",
       " (6, array([0, 0, 0, 0, 0, 0, 1, 0, 0, 0])),\n",
       " (7, array([0, 0, 0, 0, 0, 0, 0, 1, 0, 0])),\n",
       " (7, array([0, 0, 0, 0, 0, 0, 0, 1, 0, 0])),\n",
       " (1, array([0, 1, 0, 0, 0, 0, 0, 0, 0, 0])),\n",
       " (6, array([0, 0, 0, 0, 0, 0, 1, 0, 0, 0])),\n",
       " (8, array([0, 0, 0, 0, 0, 0, 0, 0, 1, 0])),\n",
       " (5, array([0, 0, 0, 0, 0, 1, 0, 0, 0, 0])),\n",
       " (5, array([0, 0, 0, 0, 0, 1, 0, 0, 0, 0])),\n",
       " (0, array([1, 0, 0, 0, 0, 0, 0, 0, 0, 0])),\n",
       " (6, array([0, 0, 0, 0, 0, 0, 1, 0, 0, 0])),\n",
       " (8, array([0, 0, 0, 0, 0, 0, 0, 0, 1, 0])),\n",
       " (6, array([0, 0, 0, 0, 0, 0, 1, 0, 0, 0])),\n",
       " (6, array([0, 0, 0, 0, 0, 0, 1, 0, 0, 0])),\n",
       " (4, array([0, 0, 0, 0, 1, 0, 0, 0, 0, 0])),\n",
       " (4, array([0, 0, 0, 0, 1, 0, 0, 0, 0, 0])),\n",
       " (6, array([0, 0, 0, 0, 0, 0, 1, 0, 0, 0])),\n",
       " (4, array([0, 0, 0, 0, 1, 0, 0, 0, 0, 0])),\n",
       " (2, array([0, 0, 1, 0, 0, 0, 0, 0, 0, 0])),\n",
       " (6, array([0, 0, 0, 0, 0, 0, 1, 0, 0, 0])),\n",
       " (2, array([0, 0, 1, 0, 0, 0, 0, 0, 0, 0])),\n",
       " (0, array([1, 0, 0, 0, 0, 0, 0, 0, 0, 0])),\n",
       " (5, array([0, 0, 0, 0, 0, 1, 0, 0, 0, 0])),\n",
       " (2, array([0, 0, 1, 0, 0, 0, 0, 0, 0, 0])),\n",
       " (6, array([0, 0, 0, 0, 0, 0, 1, 0, 0, 0])),\n",
       " (9, array([0, 0, 0, 0, 0, 0, 0, 0, 0, 1])),\n",
       " (1, array([0, 1, 0, 0, 0, 0, 0, 0, 0, 0])),\n",
       " (9, array([0, 0, 0, 0, 0, 0, 0, 0, 0, 1])),\n",
       " (3, array([0, 0, 0, 1, 0, 0, 0, 0, 0, 0])),\n",
       " (0, array([1, 0, 0, 0, 0, 0, 0, 0, 0, 0])),\n",
       " (3, array([0, 0, 0, 1, 0, 0, 0, 0, 0, 0])),\n",
       " (7, array([0, 0, 0, 0, 0, 0, 0, 1, 0, 0])),\n",
       " (5, array([0, 0, 0, 0, 0, 1, 0, 0, 0, 0])),\n",
       " (9, array([0, 0, 0, 0, 0, 0, 0, 0, 0, 1])),\n",
       " (4, array([0, 0, 0, 0, 1, 0, 0, 0, 0, 0])),\n",
       " (6, array([0, 0, 0, 0, 0, 0, 1, 0, 0, 0])),\n",
       " (4, array([0, 0, 0, 0, 1, 0, 0, 0, 0, 0])),\n",
       " (0, array([1, 0, 0, 0, 0, 0, 0, 0, 0, 0])),\n",
       " (5, array([0, 0, 0, 0, 0, 1, 0, 0, 0, 0])),\n",
       " (6, array([0, 0, 0, 0, 0, 0, 1, 0, 0, 0])),\n",
       " (1, array([0, 1, 0, 0, 0, 0, 0, 0, 0, 0])),\n",
       " (3, array([0, 0, 0, 1, 0, 0, 0, 0, 0, 0])),\n",
       " (8, array([0, 0, 0, 0, 0, 0, 0, 0, 1, 0])),\n",
       " (1, array([0, 1, 0, 0, 0, 0, 0, 0, 0, 0])),\n",
       " (9, array([0, 0, 0, 0, 0, 0, 0, 0, 0, 1])),\n",
       " (4, array([0, 0, 0, 0, 1, 0, 0, 0, 0, 0])),\n",
       " (7, array([0, 0, 0, 0, 0, 0, 0, 1, 0, 0])),\n",
       " (4, array([0, 0, 0, 0, 1, 0, 0, 0, 0, 0])),\n",
       " (7, array([0, 0, 0, 0, 0, 0, 0, 1, 0, 0])),\n",
       " (3, array([0, 0, 0, 1, 0, 0, 0, 0, 0, 0])),\n",
       " (6, array([0, 0, 0, 0, 0, 0, 1, 0, 0, 0])),\n",
       " (7, array([0, 0, 0, 0, 0, 0, 0, 1, 0, 0])),\n",
       " (0, array([1, 0, 0, 0, 0, 0, 0, 0, 0, 0])),\n",
       " (8, array([0, 0, 0, 0, 0, 0, 0, 0, 1, 0])),\n",
       " (1, array([0, 1, 0, 0, 0, 0, 0, 0, 0, 0])),\n",
       " (2, array([0, 0, 1, 0, 0, 0, 0, 0, 0, 0])),\n",
       " (2, array([0, 0, 1, 0, 0, 0, 0, 0, 0, 0])),\n",
       " (8, array([0, 0, 0, 0, 0, 0, 0, 0, 1, 0])),\n",
       " (8, array([0, 0, 0, 0, 0, 0, 0, 0, 1, 0])),\n",
       " (2, array([0, 0, 1, 0, 0, 0, 0, 0, 0, 0])),\n",
       " (3, array([0, 0, 0, 1, 0, 0, 0, 0, 0, 0])),\n",
       " (8, array([0, 0, 0, 0, 0, 0, 0, 0, 1, 0])),\n",
       " (0, array([1, 0, 0, 0, 0, 0, 0, 0, 0, 0])),\n",
       " (5, array([0, 0, 0, 0, 0, 1, 0, 0, 0, 0])),\n",
       " (4, array([0, 0, 0, 0, 1, 0, 0, 0, 0, 0])),\n",
       " (4, array([0, 0, 0, 0, 1, 0, 0, 0, 0, 0])),\n",
       " (1, array([0, 1, 0, 0, 0, 0, 0, 0, 0, 0])),\n",
       " (4, array([0, 0, 0, 0, 1, 0, 0, 0, 0, 0])),\n",
       " (5, array([0, 0, 0, 0, 0, 1, 0, 0, 0, 0])),\n",
       " (0, array([1, 0, 0, 0, 0, 0, 0, 0, 0, 0])),\n",
       " (1, array([0, 1, 0, 0, 0, 0, 0, 0, 0, 0])),\n",
       " (7, array([0, 0, 0, 0, 0, 0, 0, 1, 0, 0])),\n",
       " (3, array([0, 0, 0, 1, 0, 0, 0, 0, 0, 0])),\n",
       " (1, array([0, 1, 0, 0, 0, 0, 0, 0, 0, 0])),\n",
       " (7, array([0, 0, 0, 0, 0, 0, 0, 1, 0, 0])),\n",
       " (4, array([0, 0, 0, 0, 1, 0, 0, 0, 0, 0])),\n",
       " (2, array([0, 0, 1, 0, 0, 0, 0, 0, 0, 0])),\n",
       " (5, array([0, 0, 0, 0, 0, 1, 0, 0, 0, 0])),\n",
       " (3, array([0, 0, 0, 1, 0, 0, 0, 0, 0, 0])),\n",
       " (3, array([0, 0, 0, 1, 0, 0, 0, 0, 0, 0])),\n",
       " (7, array([0, 0, 0, 0, 0, 0, 0, 1, 0, 0])),\n",
       " (5, array([0, 0, 0, 0, 0, 1, 0, 0, 0, 0])),\n",
       " (5, array([0, 0, 0, 0, 0, 1, 0, 0, 0, 0])),\n",
       " (1, array([0, 1, 0, 0, 0, 0, 0, 0, 0, 0])),\n",
       " (9, array([0, 0, 0, 0, 0, 0, 0, 0, 0, 1])),\n",
       " (3, array([0, 0, 0, 1, 0, 0, 0, 0, 0, 0])),\n",
       " (5, array([0, 0, 0, 0, 0, 1, 0, 0, 0, 0])),\n",
       " (9, array([0, 0, 0, 0, 0, 0, 0, 0, 0, 1])),\n",
       " (6, array([0, 0, 0, 0, 0, 0, 1, 0, 0, 0])),\n",
       " (1, array([0, 1, 0, 0, 0, 0, 0, 0, 0, 0])),\n",
       " (3, array([0, 0, 0, 1, 0, 0, 0, 0, 0, 0])),\n",
       " (8, array([0, 0, 0, 0, 0, 0, 0, 0, 1, 0])),\n",
       " (1, array([0, 1, 0, 0, 0, 0, 0, 0, 0, 0])),\n",
       " (4, array([0, 0, 0, 0, 1, 0, 0, 0, 0, 0])),\n",
       " (5, array([0, 0, 0, 0, 0, 1, 0, 0, 0, 0])),\n",
       " (3, array([0, 0, 0, 1, 0, 0, 0, 0, 0, 0])),\n",
       " (2, array([0, 0, 1, 0, 0, 0, 0, 0, 0, 0])),\n",
       " (0, array([1, 0, 0, 0, 0, 0, 0, 0, 0, 0])),\n",
       " (6, array([0, 0, 0, 0, 0, 0, 1, 0, 0, 0])),\n",
       " (8, array([0, 0, 0, 0, 0, 0, 0, 0, 1, 0])),\n",
       " (3, array([0, 0, 0, 1, 0, 0, 0, 0, 0, 0])),\n",
       " (4, array([0, 0, 0, 0, 1, 0, 0, 0, 0, 0])),\n",
       " (9, array([0, 0, 0, 0, 0, 0, 0, 0, 0, 1])),\n",
       " (9, array([0, 0, 0, 0, 0, 0, 0, 0, 0, 1])),\n",
       " (2, array([0, 0, 1, 0, 0, 0, 0, 0, 0, 0])),\n",
       " (3, array([0, 0, 0, 1, 0, 0, 0, 0, 0, 0])),\n",
       " (8, array([0, 0, 0, 0, 0, 0, 0, 0, 1, 0])),\n",
       " (0, array([1, 0, 0, 0, 0, 0, 0, 0, 0, 0])),\n",
       " (9, array([0, 0, 0, 0, 0, 0, 0, 0, 0, 1])),\n",
       " (4, array([0, 0, 0, 0, 1, 0, 0, 0, 0, 0])),\n",
       " (3, array([0, 0, 0, 1, 0, 0, 0, 0, 0, 0])),\n",
       " (7, array([0, 0, 0, 0, 0, 0, 0, 1, 0, 0])),\n",
       " (7, array([0, 0, 0, 0, 0, 0, 0, 1, 0, 0])),\n",
       " (2, array([0, 0, 1, 0, 0, 0, 0, 0, 0, 0])),\n",
       " (4, array([0, 0, 0, 0, 1, 0, 0, 0, 0, 0])),\n",
       " (3, array([0, 0, 0, 1, 0, 0, 0, 0, 0, 0])),\n",
       " (6, array([0, 0, 0, 0, 0, 0, 1, 0, 0, 0])),\n",
       " (2, array([0, 0, 1, 0, 0, 0, 0, 0, 0, 0])),\n",
       " (2, array([0, 0, 1, 0, 0, 0, 0, 0, 0, 0])),\n",
       " (0, array([1, 0, 0, 0, 0, 0, 0, 0, 0, 0])),\n",
       " (6, array([0, 0, 0, 0, 0, 0, 1, 0, 0, 0])),\n",
       " (0, array([1, 0, 0, 0, 0, 0, 0, 0, 0, 0])),\n",
       " (4, array([0, 0, 0, 0, 1, 0, 0, 0, 0, 0])),\n",
       " (8, array([0, 0, 0, 0, 0, 0, 0, 0, 1, 0])),\n",
       " (7, array([0, 0, 0, 0, 0, 0, 0, 1, 0, 0])),\n",
       " (7, array([0, 0, 0, 0, 0, 0, 0, 1, 0, 0])),\n",
       " (5, array([0, 0, 0, 0, 0, 1, 0, 0, 0, 0])),\n",
       " (3, array([0, 0, 0, 1, 0, 0, 0, 0, 0, 0])),\n",
       " (5, array([0, 0, 0, 0, 0, 1, 0, 0, 0, 0])),\n",
       " (2, array([0, 0, 1, 0, 0, 0, 0, 0, 0, 0])),\n",
       " (3, array([0, 0, 0, 1, 0, 0, 0, 0, 0, 0])),\n",
       " (2, array([0, 0, 1, 0, 0, 0, 0, 0, 0, 0])),\n",
       " (4, array([0, 0, 0, 0, 1, 0, 0, 0, 0, 0])),\n",
       " (5, array([0, 0, 0, 0, 0, 1, 0, 0, 0, 0])),\n",
       " (9, array([0, 0, 0, 0, 0, 0, 0, 0, 0, 1])),\n",
       " (8, array([0, 0, 0, 0, 0, 0, 0, 0, 1, 0])),\n",
       " (2, array([0, 0, 1, 0, 0, 0, 0, 0, 0, 0])),\n",
       " (7, array([0, 0, 0, 0, 0, 0, 0, 1, 0, 0])),\n",
       " (6, array([0, 0, 0, 0, 0, 0, 1, 0, 0, 0])),\n",
       " (6, array([0, 0, 0, 0, 0, 0, 1, 0, 0, 0])),\n",
       " (1, array([0, 1, 0, 0, 0, 0, 0, 0, 0, 0])),\n",
       " (7, array([0, 0, 0, 0, 0, 0, 0, 1, 0, 0])),\n",
       " (6, array([0, 0, 0, 0, 0, 0, 1, 0, 0, 0])),\n",
       " (8, array([0, 0, 0, 0, 0, 0, 0, 0, 1, 0])),\n",
       " (3, array([0, 0, 0, 1, 0, 0, 0, 0, 0, 0])),\n",
       " (5, array([0, 0, 0, 0, 0, 1, 0, 0, 0, 0])),\n",
       " (0, array([1, 0, 0, 0, 0, 0, 0, 0, 0, 0])),\n",
       " (2, array([0, 0, 1, 0, 0, 0, 0, 0, 0, 0])),\n",
       " (6, array([0, 0, 0, 0, 0, 0, 1, 0, 0, 0])),\n",
       " (6, array([0, 0, 0, 0, 0, 0, 1, 0, 0, 0])),\n",
       " (2, array([0, 0, 1, 0, 0, 0, 0, 0, 0, 0])),\n",
       " (5, array([0, 0, 0, 0, 0, 1, 0, 0, 0, 0])),\n",
       " (9, array([0, 0, 0, 0, 0, 0, 0, 0, 0, 1])),\n",
       " (0, array([1, 0, 0, 0, 0, 0, 0, 0, 0, 0])),\n",
       " (1, array([0, 1, 0, 0, 0, 0, 0, 0, 0, 0])),\n",
       " (4, array([0, 0, 0, 0, 1, 0, 0, 0, 0, 0])),\n",
       " (1, array([0, 1, 0, 0, 0, 0, 0, 0, 0, 0])),\n",
       " (5, array([0, 0, 0, 0, 0, 1, 0, 0, 0, 0])),\n",
       " (9, array([0, 0, 0, 0, 0, 0, 0, 0, 0, 1])),\n",
       " (7, array([0, 0, 0, 0, 0, 0, 0, 1, 0, 0])),\n",
       " (3, array([0, 0, 0, 1, 0, 0, 0, 0, 0, 0])),\n",
       " (8, array([0, 0, 0, 0, 0, 0, 0, 0, 1, 0])),\n",
       " (0, array([1, 0, 0, 0, 0, 0, 0, 0, 0, 0])),\n",
       " (4, array([0, 0, 0, 0, 1, 0, 0, 0, 0, 0])),\n",
       " (2, array([0, 0, 1, 0, 0, 0, 0, 0, 0, 0])),\n",
       " (4, array([0, 0, 0, 0, 1, 0, 0, 0, 0, 0])),\n",
       " (7, array([0, 0, 0, 0, 0, 0, 0, 1, 0, 0])),\n",
       " (3, array([0, 0, 0, 1, 0, 0, 0, 0, 0, 0])),\n",
       " (9, array([0, 0, 0, 0, 0, 0, 0, 0, 0, 1])),\n",
       " (8, array([0, 0, 0, 0, 0, 0, 0, 0, 1, 0])),\n",
       " (4, array([0, 0, 0, 0, 1, 0, 0, 0, 0, 0])),\n",
       " (5, array([0, 0, 0, 0, 0, 1, 0, 0, 0, 0])),\n",
       " (8, array([0, 0, 0, 0, 0, 0, 0, 0, 1, 0])),\n",
       " (1, array([0, 1, 0, 0, 0, 0, 0, 0, 0, 0])),\n",
       " (7, array([0, 0, 0, 0, 0, 0, 0, 1, 0, 0])),\n",
       " (8, array([0, 0, 0, 0, 0, 0, 0, 0, 1, 0])),\n",
       " (7, array([0, 0, 0, 0, 0, 0, 0, 1, 0, 0])),\n",
       " (3, array([0, 0, 0, 1, 0, 0, 0, 0, 0, 0])),\n",
       " (3, array([0, 0, 0, 1, 0, 0, 0, 0, 0, 0])),\n",
       " (2, array([0, 0, 1, 0, 0, 0, 0, 0, 0, 0])),\n",
       " (2, array([0, 0, 1, 0, 0, 0, 0, 0, 0, 0])),\n",
       " (0, array([1, 0, 0, 0, 0, 0, 0, 0, 0, 0])),\n",
       " (1, array([0, 1, 0, 0, 0, 0, 0, 0, 0, 0])),\n",
       " (7, array([0, 0, 0, 0, 0, 0, 0, 1, 0, 0])),\n",
       " (5, array([0, 0, 0, 0, 0, 1, 0, 0, 0, 0])),\n",
       " (3, array([0, 0, 0, 1, 0, 0, 0, 0, 0, 0])),\n",
       " (2, array([0, 0, 1, 0, 0, 0, 0, 0, 0, 0])),\n",
       " (1, array([0, 1, 0, 0, 0, 0, 0, 0, 0, 0])),\n",
       " (1, array([0, 1, 0, 0, 0, 0, 0, 0, 0, 0])),\n",
       " (9, array([0, 0, 0, 0, 0, 0, 0, 0, 0, 1])),\n",
       " (1, array([0, 1, 0, 0, 0, 0, 0, 0, 0, 0])),\n",
       " (8, array([0, 0, 0, 0, 0, 0, 0, 0, 1, 0])),\n",
       " (4, array([0, 0, 0, 0, 1, 0, 0, 0, 0, 0])),\n",
       " (5, array([0, 0, 0, 0, 0, 1, 0, 0, 0, 0]))]"
      ]
     },
     "execution_count": 23,
     "metadata": {},
     "output_type": "execute_result"
    }
   ],
   "source": [
    "n_encode_tests = 5\n",
    "test_pairs = list(zip(test_numbers, one_hot_out))\n",
    "test_pairs"
   ]
  },
  {
   "cell_type": "code",
   "execution_count": 24,
   "metadata": {
    "collapsed": false
   },
   "outputs": [
    {
     "data": {
      "text/plain": [
       "array([181, 241, 116, 201, 159])"
      ]
     },
     "execution_count": 24,
     "metadata": {},
     "output_type": "execute_result"
    }
   ],
   "source": [
    "test_indices = np.random.choice(len(test_numbers), n_encode_tests)\n",
    "test_indices"
   ]
  },
  {
   "cell_type": "code",
   "execution_count": 25,
   "metadata": {
    "collapsed": false
   },
   "outputs": [
    {
     "data": {
      "text/plain": [
       "[9, 2, 5, 0, 4]"
      ]
     },
     "execution_count": 25,
     "metadata": {},
     "output_type": "execute_result"
    }
   ],
   "source": [
    "labels = [test_pairs[test_i][0] for test_i in test_indices]\n",
    "labels"
   ]
  },
  {
   "cell_type": "code",
   "execution_count": 26,
   "metadata": {
    "collapsed": false
   },
   "outputs": [
    {
     "data": {
      "text/plain": [
       "array([[0, 0, 0, 0, 0, 0, 0, 0, 0, 1],\n",
       "       [0, 0, 1, 0, 0, 0, 0, 0, 0, 0],\n",
       "       [0, 0, 0, 0, 0, 1, 0, 0, 0, 0],\n",
       "       [1, 0, 0, 0, 0, 0, 0, 0, 0, 0],\n",
       "       [0, 0, 0, 0, 1, 0, 0, 0, 0, 0]])"
      ]
     },
     "execution_count": 26,
     "metadata": {},
     "output_type": "execute_result"
    }
   ],
   "source": [
    "enc_labels = np.array([test_pairs[test_i][1] for test_i in test_indices])\n",
    "enc_labels"
   ]
  },
  {
   "cell_type": "code",
   "execution_count": 27,
   "metadata": {
    "collapsed": false
   },
   "outputs": [
    {
     "data": {
      "text/plain": [
       "array([[0, 0, 0, 0, 1],\n",
       "       [0, 1, 0, 0, 0],\n",
       "       [0, 0, 0, 1, 0],\n",
       "       [1, 0, 0, 0, 0],\n",
       "       [0, 0, 1, 0, 0]])"
      ]
     },
     "execution_count": 27,
     "metadata": {},
     "output_type": "execute_result"
    }
   ],
   "source": [
    "new_enc_labels = one_hot_encode(labels)\n",
    "new_enc_labels"
   ]
  },
  {
   "cell_type": "code",
   "execution_count": 2,
   "metadata": {
    "collapsed": true
   },
   "outputs": [],
   "source": [
    "import numpy as np"
   ]
  },
  {
   "cell_type": "code",
   "execution_count": 3,
   "metadata": {
    "collapsed": false
   },
   "outputs": [
    {
     "data": {
      "text/plain": [
       "[1, [1, 2, 3]]"
      ]
     },
     "execution_count": 3,
     "metadata": {},
     "output_type": "execute_result"
    }
   ],
   "source": [
    "a = [1, 2, 3]\n",
    "[1, a]"
   ]
  },
  {
   "cell_type": "code",
   "execution_count": 14,
   "metadata": {
    "collapsed": true
   },
   "outputs": [],
   "source": [
    "import tensorflow as tf"
   ]
  },
  {
   "cell_type": "code",
   "execution_count": 15,
   "metadata": {
    "collapsed": true
   },
   "outputs": [],
   "source": [
    "a = tf.placeholder(tf.float32, [1, 2, 2, 6])"
   ]
  },
  {
   "cell_type": "code",
   "execution_count": 16,
   "metadata": {
    "collapsed": false
   },
   "outputs": [
    {
     "data": {
      "text/plain": [
       "<tf.Tensor 'Placeholder_3:0' shape=(1, 2, 2, 6) dtype=float32>"
      ]
     },
     "execution_count": 16,
     "metadata": {},
     "output_type": "execute_result"
    }
   ],
   "source": [
    "a"
   ]
  },
  {
   "cell_type": "code",
   "execution_count": 17,
   "metadata": {
    "collapsed": false
   },
   "outputs": [
    {
     "data": {
      "text/plain": [
       "6"
      ]
     },
     "execution_count": 17,
     "metadata": {},
     "output_type": "execute_result"
    }
   ],
   "source": [
    "int(a.shape[3])"
   ]
  },
  {
   "cell_type": "code",
   "execution_count": 18,
   "metadata": {
    "collapsed": false
   },
   "outputs": [],
   "source": [
    "b = tf.placeholder(tf.float32, [4, 5, 5, 3])"
   ]
  },
  {
   "cell_type": "code",
   "execution_count": 19,
   "metadata": {
    "collapsed": false
   },
   "outputs": [
    {
     "data": {
      "text/plain": [
       "<tf.Tensor 'Rank_2:0' shape=() dtype=int32>"
      ]
     },
     "execution_count": 19,
     "metadata": {},
     "output_type": "execute_result"
    }
   ],
   "source": [
    "tf.rank(b)"
   ]
  },
  {
   "cell_type": "code",
   "execution_count": 20,
   "metadata": {
    "collapsed": true
   },
   "outputs": [],
   "source": [
    "c = tf.constant([[[1, 4], [3, 6]], [[2, 8], [7, 4]]])"
   ]
  },
  {
   "cell_type": "code",
   "execution_count": 21,
   "metadata": {
    "collapsed": false
   },
   "outputs": [
    {
     "data": {
      "text/plain": [
       "array([[1, 4],\n",
       "       [3, 6],\n",
       "       [2, 8],\n",
       "       [7, 4]], dtype=int32)"
      ]
     },
     "execution_count": 21,
     "metadata": {},
     "output_type": "execute_result"
    }
   ],
   "source": [
    "d = tf.reshape(c, [-1, 2])\n",
    "tf.Session().run(d)"
   ]
  },
  {
   "cell_type": "code",
   "execution_count": 22,
   "metadata": {
    "collapsed": false
   },
   "outputs": [
    {
     "data": {
      "text/plain": [
       "[4, 5, 5, 3]"
      ]
     },
     "execution_count": 22,
     "metadata": {},
     "output_type": "execute_result"
    }
   ],
   "source": [
    "shape = b.get_shape().as_list()\n",
    "shape"
   ]
  },
  {
   "cell_type": "code",
   "execution_count": 23,
   "metadata": {
    "collapsed": true
   },
   "outputs": [],
   "source": [
    "x_tensor = tf.placeholder(tf.float32, [None, 10, 30, 6])"
   ]
  },
  {
   "cell_type": "code",
   "execution_count": 24,
   "metadata": {
    "collapsed": false
   },
   "outputs": [
    {
     "data": {
      "text/plain": [
       "[None, 10, 30, 6]"
      ]
     },
     "execution_count": 24,
     "metadata": {},
     "output_type": "execute_result"
    }
   ],
   "source": [
    "shape = x_tensor.get_shape().as_list()\n",
    "shape"
   ]
  },
  {
   "cell_type": "code",
   "execution_count": 25,
   "metadata": {
    "collapsed": false
   },
   "outputs": [
    {
     "data": {
      "text/plain": [
       "<tf.Tensor 'Prod_1:0' shape=() dtype=int32>"
      ]
     },
     "execution_count": 25,
     "metadata": {},
     "output_type": "execute_result"
    }
   ],
   "source": [
    "flatten_num = tf.reduce_prod(shape[1:])\n",
    "flatten_num"
   ]
  },
  {
   "cell_type": "code",
   "execution_count": 26,
   "metadata": {
    "collapsed": false
   },
   "outputs": [
    {
     "data": {
      "text/plain": [
       "range(4, 3, 5)"
      ]
     },
     "execution_count": 26,
     "metadata": {},
     "output_type": "execute_result"
    }
   ],
   "source": [
    "z = (3, 5)\n",
    "r = range(4, *z)\n",
    "r"
   ]
  },
  {
   "cell_type": "code",
   "execution_count": 27,
   "metadata": {
    "collapsed": false
   },
   "outputs": [
    {
     "data": {
      "text/plain": [
       "<tf.Tensor 'Placeholder_3:0' shape=(1, 2, 2, 6) dtype=float32>"
      ]
     },
     "execution_count": 27,
     "metadata": {},
     "output_type": "execute_result"
    }
   ],
   "source": [
    "a"
   ]
  },
  {
   "cell_type": "code",
   "execution_count": 32,
   "metadata": {
    "collapsed": false
   },
   "outputs": [
    {
     "name": "stdout",
     "output_type": "stream",
     "text": [
      "[[[ 1.54002917 -1.53731382]\n",
      "  [-1.24463141  0.14380817]]\n",
      "\n",
      " [[ 0.2709457  -0.65720129]\n",
      "  [ 0.73713833  0.61710328]]]\n",
      "[[[ 0.77001458 -0.76865691]\n",
      "  [-0.6223157   0.07190409]]\n",
      "\n",
      " [[ 0.13547285 -0.32860065]\n",
      "  [ 0.36856917  0.30855164]]]\n"
     ]
    }
   ],
   "source": [
    "a = tf.truncated_normal([2,2,2])\n",
    "b = tf.Variable(a)\n",
    "c = tf.Variable(a * 0.5)\n",
    "\n",
    "with tf.Session() as sess:\n",
    "    sess.run(tf.global_variables_initializer())\n",
    "    out1 = sess.run(b)\n",
    "    print(out1)\n",
    "    out2 = sess.run(c)\n",
    "    print(out2)"
   ]
  },
  {
   "cell_type": "code",
   "execution_count": null,
   "metadata": {
    "collapsed": true
   },
   "outputs": [],
   "source": []
  }
 ],
 "metadata": {
  "kernelspec": {
   "display_name": "Python 3",
   "language": "python",
   "name": "python3"
  },
  "language_info": {
   "codemirror_mode": {
    "name": "ipython",
    "version": 3
   },
   "file_extension": ".py",
   "mimetype": "text/x-python",
   "name": "python",
   "nbconvert_exporter": "python",
   "pygments_lexer": "ipython3",
   "version": "3.6.0"
  }
 },
 "nbformat": 4,
 "nbformat_minor": 2
}
